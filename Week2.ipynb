{
  "nbformat": 4,
  "nbformat_minor": 0,
  "metadata": {
    "colab": {
      "name": "Untitled1.ipynb",
      "provenance": [],
      "include_colab_link": true
    },
    "kernelspec": {
      "name": "python3",
      "display_name": "Python 3"
    },
    "language_info": {
      "name": "python"
    }
  },
  "cells": [
    {
      "cell_type": "markdown",
      "metadata": {
        "id": "view-in-github",
        "colab_type": "text"
      },
      "source": [
        "<a href=\"https://colab.research.google.com/github/Vaish-922/Python-SMP/blob/main/Week2.ipynb\" target=\"_parent\"><img src=\"https://colab.research.google.com/assets/colab-badge.svg\" alt=\"Open In Colab\"/></a>"
      ]
    },
    {
      "cell_type": "code",
      "metadata": {
        "colab": {
          "base_uri": "https://localhost:8080/"
        },
        "id": "4HwBZM_laQaK",
        "outputId": "e046b17d-129f-4533-efec-c777ffd1bcd3"
      },
      "source": [
        " ar = []\n",
        " n=int(input(\"Enter no of elements\"))\n",
        " while n:\n",
        "   ar.append(int(input()))\n",
        "   n-=1\n",
        "flag = True\n",
        "for i in ar:\n",
        "  for j in range(len(ar)):\n",
        "        if i == ar[j]:\n",
        "            boolean = False\n",
        "            break\n",
        "\n",
        "print(boolean)\n",
        "\n",
        "\n"
      ],
      "execution_count": null,
      "outputs": [
        {
          "output_type": "stream",
          "text": [
            "Enter no of elements4\n",
            "4\n",
            "3\n",
            "3\n",
            "2\n",
            "False\n"
          ],
          "name": "stdout"
        }
      ]
    },
    {
      "cell_type": "code",
      "metadata": {
        "colab": {
          "base_uri": "https://localhost:8080/"
        },
        "id": "pkocheq-e5dl",
        "outputId": "b4922faf-e411-4485-ce5b-3654f0a730ca"
      },
      "source": [
        "\n",
        "ar=input().split()\n",
        "st=list(set(ar))\n",
        "flag = False\n",
        "if len(ar)==len(st):\n",
        "  flag = True\n",
        "print(flag)"
      ],
      "execution_count": null,
      "outputs": [
        {
          "output_type": "stream",
          "text": [
            "1 4 3 2 5\n",
            "True\n"
          ],
          "name": "stdout"
        }
      ]
    },
    {
      "cell_type": "code",
      "metadata": {
        "colab": {
          "base_uri": "https://localhost:8080/"
        },
        "id": "RrO4xB4TgU44",
        "outputId": "b27a3a46-6617-4f57-f0a5-58b007081ef6"
      },
      "source": [
        "\n",
        "ar=input().split()\n",
        "st=list(set(ar))\n",
        "st"
      ],
      "execution_count": null,
      "outputs": [
        {
          "output_type": "stream",
          "text": [
            "6 5 5 2 2 7 7\n"
          ],
          "name": "stdout"
        },
        {
          "output_type": "execute_result",
          "data": {
            "text/plain": [
              "['7', '5', '6', '2']"
            ]
          },
          "metadata": {
            "tags": []
          },
          "execution_count": 13
        }
      ]
    },
    {
      "cell_type": "code",
      "metadata": {
        "colab": {
          "base_uri": "https://localhost:8080/"
        },
        "id": "kmVWgYOAgmSJ",
        "outputId": "c6bab7b5-c82f-487f-f662-7fe458560d24"
      },
      "source": [
        "ar = set(input().split())\n",
        "ss = set(input().split())\n",
        "print(ss.issubset(ar))"
      ],
      "execution_count": null,
      "outputs": [
        {
          "output_type": "stream",
          "text": [
            "1 2 3 4 5\n",
            "2 3 4\n",
            "True\n"
          ],
          "name": "stdout"
        }
      ]
    },
    {
      "cell_type": "code",
      "metadata": {
        "colab": {
          "base_uri": "https://localhost:8080/"
        },
        "id": "aRN0DtSehO4B",
        "outputId": "09c1e5b9-3fe3-43f4-e1a3-9f90e028fb89"
      },
      "source": [
        "ar = tuple(input().split())\n",
        "ss = tuple(input().split())\n",
        "if len(ar)>len(ss):\n",
        "  min=len(ss)\n",
        "  max=len(ar)\n",
        "else:\n",
        "  min=len(ar)\n",
        "  max=len(ss)\n",
        "\n",
        "resultant = []\n",
        "for i in range(min):\n",
        "  resultant.append(int(ar[i])+int(ss[i]))\n",
        "\n",
        "if len(ar)==min:\n",
        "  for j in range(min, max):\n",
        "    resultant.append(int(ss[j]))\n",
        "else:\n",
        "  for j in range(min, max):\n",
        "    resultant.append(int(ar[j]))\n",
        "print(tuple(resultant))\n",
        "\n"
      ],
      "execution_count": null,
      "outputs": [
        {
          "output_type": "stream",
          "text": [
            "1 2 3 4\n",
            "3 4\n",
            "(4, 6, 3, 4)\n"
          ],
          "name": "stdout"
        }
      ]
    },
    {
      "cell_type": "code",
      "metadata": {
        "colab": {
          "base_uri": "https://localhost:8080/"
        },
        "id": "GAwa_bVdmCOF",
        "outputId": "7069b0e6-df31-4ee8-9d96-628b8eb4f82a"
      },
      "source": [
        "ar = tuple(input().split())\n",
        "no=0\n",
        "for i in ar:\n",
        "  no=no*(10)+int(i)\n",
        "print(no)\n"
      ],
      "execution_count": 5,
      "outputs": [
        {
          "output_type": "stream",
          "text": [
            "1 2 3\n",
            "123\n"
          ],
          "name": "stdout"
        }
      ]
    }
  ]
}